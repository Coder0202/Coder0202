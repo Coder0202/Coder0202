{
  "cells": [
    {
      "cell_type": "markdown",
      "metadata": {
        "id": "view-in-github",
        "colab_type": "text"
      },
      "source": [
        "<a href=\"https://colab.research.google.com/github/Coder0202/Coder0202/blob/main/Cyberus_Demo.ipynb\" target=\"_parent\"><img src=\"https://colab.research.google.com/assets/colab-badge.svg\" alt=\"Open In Colab\"/></a>"
      ]
    },
    {
      "cell_type": "markdown",
      "source": [
        "### **Step 1:** Setup the environment\n",
        "Before we begin setting up Cyberus, we need to set up the environment. This involves downloading the source code from the official GitHub repository, placing it in the correct directory, and ensuring that all Python dependencies are satisfied."
      ],
      "metadata": {
        "id": "CUz-FomIlnZt"
      }
    },
    {
      "cell_type": "code",
      "execution_count": null,
      "metadata": {
        "cellView": "form",
        "id": "bC8N_2oG_3CC"
      },
      "outputs": [],
      "source": [
        "#@markdown **Run me!** for auto setup of environment.\n",
        "!git clone https://github.com/s-m-quadri/cyberus.git\n",
        "!mv /content/cyberus/* /content\n",
        "!rm -r /content/cyberus\n",
        "!pip install -r /content/requirements.txt"
      ]
    },
    {
      "cell_type": "markdown",
      "metadata": {
        "id": "OK1ty1Df7CTL"
      },
      "source": [
        "### **Step 2:** Download Datasets\n",
        "\n",
        "To proceed with the work, we need to download the datasets. Please follow the steps below:\n",
        "\n",
        "1. [Download the datasets](https://drive.google.com/drive/folders/1xOIc_d3RDOKhaoowChTubQ101nWpZq7Q?usp=share_link). The dataset is provided as a compressed file, which includes three datasets: the **spam_sms** dataset, the **spam_email** dataset, and the **bad_urls** dataset.\n",
        "2. Go to the \"Files\" section of this Google Colab environment.\n",
        "3. Drag and drop the downloaded file into the \"Files\" section.\n",
        "   \n",
        "With these steps, you have completed the dataset download process."
      ]
    },
    {
      "cell_type": "markdown",
      "metadata": {
        "id": "-yVlLeTLFtI2"
      },
      "source": [
        "### **Step 3:** Build the Cyberus Models (Takes time!)\n",
        "\n",
        "We're almost there! In this step, we need to build all the machine learning models for Cyberus. If you're interested in the technical details, you can find some of the descriptions in the official repository. Please note that this step requires some computational time, so it may take up to 5 minutes to complete. Your patience is greatly appreciated as the models are being constructed."
      ]
    },
    {
      "cell_type": "code",
      "execution_count": null,
      "metadata": {
        "cellView": "form",
        "colab": {
          "background_save": true
        },
        "id": "OHYv14dv4D2x"
      },
      "outputs": [],
      "source": [
        "#@markdown **Run me!** for auto building of Cyberus models.\n",
        "from cyberus import cyberus\n",
        "cyberus_obj = cyberus()"
      ]
    },
    {
      "cell_type": "markdown",
      "metadata": {
        "id": "lym1hzROH6lF"
      },
      "source": [
        "# Cyberus Playground\n",
        "\n",
        "Finally, you can input the message of interest into the provided input text field and assess its legitimacy by simply clicking the \"Run\" button. This process can be repeated multiple times for different messages. Cyberus will swiftly analyze the input and provide a risk assessment, helping you make informed decisions about the legitimacy of each message. With this user-friendly approach, you can conveniently utilize Cyberus to evaluate message authenticity whenever needed."
      ]
    },
    {
      "cell_type": "code",
      "execution_count": null,
      "metadata": {
        "cellView": "form",
        "id": "2BQMBB3BSkDp"
      },
      "outputs": [],
      "source": [
        "Message = \"\" #@param {type:\"string\"}\n",
        "#@markdown **Run me!** after entering text, for processing.\n",
        "cyberus_obj.input_text = message\n",
        "cyberus_obj.process()\n",
        "cyberus_obj.print()"
      ]
    }
  ],
  "metadata": {
    "colab": {
      "provenance": [],
      "toc_visible": true,
      "include_colab_link": true
    },
    "kernelspec": {
      "display_name": "Python 3",
      "name": "python3"
    },
    "language_info": {
      "name": "python"
    }
  },
  "nbformat": 4,
  "nbformat_minor": 0
}